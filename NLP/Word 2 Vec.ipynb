{
 "cells": [
  {
   "cell_type": "code",
   "execution_count": 1,
   "metadata": {},
   "outputs": [],
   "source": [
    "import nltk"
   ]
  },
  {
   "cell_type": "code",
   "execution_count": 2,
   "metadata": {},
   "outputs": [
    {
     "name": "stdout",
     "output_type": "stream",
     "text": [
      "showing info https://raw.githubusercontent.com/nltk/nltk_data/gh-pages/index.xml\n"
     ]
    },
    {
     "data": {
      "text/plain": [
       "True"
      ]
     },
     "execution_count": 2,
     "metadata": {},
     "output_type": "execute_result"
    }
   ],
   "source": [
    "nltk.download()"
   ]
  },
  {
   "cell_type": "code",
   "execution_count": 3,
   "metadata": {},
   "outputs": [],
   "source": [
    "from nltk.stem import WordNetLemmatizer\n",
    "from nltk.stem import PorterStemmer\n",
    "from gensim.models import Word2Vec\n",
    "from nltk.corpus import stopwords\n",
    "import re"
   ]
  },
  {
   "cell_type": "code",
   "execution_count": 5,
   "metadata": {},
   "outputs": [],
   "source": [
    "paragraph = \"\"\"I have three visions for India. In 3000 years of our history, people from all over \n",
    "               the world have come and invaded us, captured our lands, conquered our minds. \n",
    "               From Alexander onwards, the Greeks, the Turks, the Moguls, the Portuguese, the British,\n",
    "               the French, the Dutch, all of them came and looted us, took over what was ours. \n",
    "               Yet we have not done this to any other nation. We have not conquered anyone. \n",
    "               We have not grabbed their land, their culture, \n",
    "               their history and tried to enforce our way of life on them. \n",
    "               Why? Because we respect the freedom of others.That is why my \n",
    "               first vision is that of freedom. I believe that India got its first vision of \n",
    "               this in 1857, when we started the War of Independence. It is this freedom that\n",
    "               we must protect and nurture and build on. If we are not free, no one will respect us.\n",
    "               My second vision for India’s development. For fifty years we have been a developing nation.\n",
    "               It is time we see ourselves as a developed nation. We are among the top 5 nations of the world\n",
    "               in terms of GDP. We have a 10 percent growth rate in most areas. Our poverty levels are falling.\n",
    "               Our achievements are being globally recognised today. Yet we lack the self-confidence to\n",
    "               see ourselves as a developed nation, self-reliant and self-assured. Isn’t this incorrect?\n",
    "               I have a third vision. India must stand up to the world. Because I believe that unless India \n",
    "               stands up to the world, no one will respect us. Only strength respects strength. We must be \n",
    "               strong not only as a military power but also as an economic power. Both must go hand-in-hand. \n",
    "               My good fortune was to have worked with three great minds. Dr. Vikram Sarabhai of the Dept. of \n",
    "               space, Professor Satish Dhawan, who succeeded him and Dr. Brahm Prakash, father of nuclear material.\n",
    "               I was lucky to have worked with all three of them closely and consider this the great opportunity of my life. \n",
    "               I see four milestones in my career\"\"\""
   ]
  },
  {
   "cell_type": "code",
   "execution_count": 9,
   "metadata": {},
   "outputs": [
    {
     "data": {
      "text/plain": [
       "'i have three visions for india. in years of our history, people from all over the world have come and invaded us, captured our lands, conquered our minds. from alexander onwards, the greeks, the turks, the moguls, the portuguese, the british, the french, the dutch, all of them came and looted us, took over what was ours. yet we have not done this to any other nation. we have not conquered anyone. we have not grabbed their land, their culture, their history and tried to enforce our way of life on them. why? because we respect the freedom of others.that is why my first vision is that of freedom. i believe that india got its first vision of this in , when we started the war of independence. it is this freedom that we must protect and nurture and build on. if we are not free, no one will respect us. my second vision for india’s development. for fifty years we have been a developing nation. it is time we see ourselves as a developed nation. we are among the top nations of the world in terms of gdp. we have a percent growth rate in most areas. our poverty levels are falling. our achievements are being globally recognised today. yet we lack the self-confidence to see ourselves as a developed nation, self-reliant and self-assured. isn’t this incorrect? i have a third vision. india must stand up to the world. because i believe that unless india stands up to the world, no one will respect us. only strength respects strength. we must be strong not only as a military power but also as an economic power. both must go hand-in-hand. my good fortune was to have worked with three great minds. dr. vikram sarabhai of the dept. of space, professor satish dhawan, who succeeded him and dr. brahm prakash, father of nuclear material. i was lucky to have worked with all three of them closely and consider this the great opportunity of my life. i see four milestones in my career'"
      ]
     },
     "execution_count": 9,
     "metadata": {},
     "output_type": "execute_result"
    }
   ],
   "source": [
    "text = re.sub(r'\\[[0-9*\\]]', ' ', paragraph)\n",
    "text = re.sub(r'\\s+', ' ', text)\n",
    "text = text.lower()\n",
    "text = re.sub(r'\\d', ' ', text)\n",
    "text = re.sub(r'\\s+', ' ', text)\n",
    "text"
   ]
  },
  {
   "cell_type": "code",
   "execution_count": 10,
   "metadata": {},
   "outputs": [
    {
     "data": {
      "application/javascript": [
       "\n",
       "        if (window._pyforest_update_imports_cell) { window._pyforest_update_imports_cell('import nltk'); }\n",
       "    "
      ],
      "text/plain": [
       "<IPython.core.display.Javascript object>"
      ]
     },
     "metadata": {},
     "output_type": "display_data"
    }
   ],
   "source": [
    "sentence = nltk.sent_tokenize(text)"
   ]
  },
  {
   "cell_type": "code",
   "execution_count": 11,
   "metadata": {},
   "outputs": [
    {
     "data": {
      "text/plain": [
       "['i have three visions for india.',\n",
       " 'in years of our history, people from all over the world have come and invaded us, captured our lands, conquered our minds.',\n",
       " 'from alexander onwards, the greeks, the turks, the moguls, the portuguese, the british, the french, the dutch, all of them came and looted us, took over what was ours.',\n",
       " 'yet we have not done this to any other nation.',\n",
       " 'we have not conquered anyone.',\n",
       " 'we have not grabbed their land, their culture, their history and tried to enforce our way of life on them.',\n",
       " 'why?',\n",
       " 'because we respect the freedom of others.that is why my first vision is that of freedom.',\n",
       " 'i believe that india got its first vision of this in , when we started the war of independence.',\n",
       " 'it is this freedom that we must protect and nurture and build on.',\n",
       " 'if we are not free, no one will respect us.',\n",
       " 'my second vision for india’s development.',\n",
       " 'for fifty years we have been a developing nation.',\n",
       " 'it is time we see ourselves as a developed nation.',\n",
       " 'we are among the top nations of the world in terms of gdp.',\n",
       " 'we have a percent growth rate in most areas.',\n",
       " 'our poverty levels are falling.',\n",
       " 'our achievements are being globally recognised today.',\n",
       " 'yet we lack the self-confidence to see ourselves as a developed nation, self-reliant and self-assured.',\n",
       " 'isn’t this incorrect?',\n",
       " 'i have a third vision.',\n",
       " 'india must stand up to the world.',\n",
       " 'because i believe that unless india stands up to the world, no one will respect us.',\n",
       " 'only strength respects strength.',\n",
       " 'we must be strong not only as a military power but also as an economic power.',\n",
       " 'both must go hand-in-hand.',\n",
       " 'my good fortune was to have worked with three great minds.',\n",
       " 'dr. vikram sarabhai of the dept.',\n",
       " 'of space, professor satish dhawan, who succeeded him and dr. brahm prakash, father of nuclear material.',\n",
       " 'i was lucky to have worked with all three of them closely and consider this the great opportunity of my life.',\n",
       " 'i see four milestones in my career']"
      ]
     },
     "execution_count": 11,
     "metadata": {},
     "output_type": "execute_result"
    }
   ],
   "source": [
    "sentence"
   ]
  },
  {
   "cell_type": "code",
   "execution_count": 12,
   "metadata": {},
   "outputs": [
    {
     "data": {
      "text/plain": [
       "31"
      ]
     },
     "execution_count": 12,
     "metadata": {},
     "output_type": "execute_result"
    }
   ],
   "source": [
    "len(sentence)"
   ]
  },
  {
   "cell_type": "code",
   "execution_count": 24,
   "metadata": {},
   "outputs": [
    {
     "data": {
      "application/javascript": [
       "\n",
       "        if (window._pyforest_update_imports_cell) { window._pyforest_update_imports_cell('import nltk'); }\n",
       "    "
      ],
      "text/plain": [
       "<IPython.core.display.Javascript object>"
      ]
     },
     "metadata": {},
     "output_type": "display_data"
    },
    {
     "data": {
      "application/javascript": [
       "\n",
       "        if (window._pyforest_update_imports_cell) { window._pyforest_update_imports_cell('import nltk'); }\n",
       "    "
      ],
      "text/plain": [
       "<IPython.core.display.Javascript object>"
      ]
     },
     "metadata": {},
     "output_type": "display_data"
    },
    {
     "data": {
      "application/javascript": [
       "\n",
       "        if (window._pyforest_update_imports_cell) { window._pyforest_update_imports_cell('import nltk'); }\n",
       "    "
      ],
      "text/plain": [
       "<IPython.core.display.Javascript object>"
      ]
     },
     "metadata": {},
     "output_type": "display_data"
    },
    {
     "data": {
      "application/javascript": [
       "\n",
       "        if (window._pyforest_update_imports_cell) { window._pyforest_update_imports_cell('import nltk'); }\n",
       "    "
      ],
      "text/plain": [
       "<IPython.core.display.Javascript object>"
      ]
     },
     "metadata": {},
     "output_type": "display_data"
    },
    {
     "data": {
      "application/javascript": [
       "\n",
       "        if (window._pyforest_update_imports_cell) { window._pyforest_update_imports_cell('import nltk'); }\n",
       "    "
      ],
      "text/plain": [
       "<IPython.core.display.Javascript object>"
      ]
     },
     "metadata": {},
     "output_type": "display_data"
    },
    {
     "data": {
      "application/javascript": [
       "\n",
       "        if (window._pyforest_update_imports_cell) { window._pyforest_update_imports_cell('import nltk'); }\n",
       "    "
      ],
      "text/plain": [
       "<IPython.core.display.Javascript object>"
      ]
     },
     "metadata": {},
     "output_type": "display_data"
    },
    {
     "data": {
      "application/javascript": [
       "\n",
       "        if (window._pyforest_update_imports_cell) { window._pyforest_update_imports_cell('import nltk'); }\n",
       "    "
      ],
      "text/plain": [
       "<IPython.core.display.Javascript object>"
      ]
     },
     "metadata": {},
     "output_type": "display_data"
    },
    {
     "data": {
      "application/javascript": [
       "\n",
       "        if (window._pyforest_update_imports_cell) { window._pyforest_update_imports_cell('import nltk'); }\n",
       "    "
      ],
      "text/plain": [
       "<IPython.core.display.Javascript object>"
      ]
     },
     "metadata": {},
     "output_type": "display_data"
    },
    {
     "data": {
      "application/javascript": [
       "\n",
       "        if (window._pyforest_update_imports_cell) { window._pyforest_update_imports_cell('import nltk'); }\n",
       "    "
      ],
      "text/plain": [
       "<IPython.core.display.Javascript object>"
      ]
     },
     "metadata": {},
     "output_type": "display_data"
    },
    {
     "data": {
      "application/javascript": [
       "\n",
       "        if (window._pyforest_update_imports_cell) { window._pyforest_update_imports_cell('import nltk'); }\n",
       "    "
      ],
      "text/plain": [
       "<IPython.core.display.Javascript object>"
      ]
     },
     "metadata": {},
     "output_type": "display_data"
    },
    {
     "data": {
      "application/javascript": [
       "\n",
       "        if (window._pyforest_update_imports_cell) { window._pyforest_update_imports_cell('import nltk'); }\n",
       "    "
      ],
      "text/plain": [
       "<IPython.core.display.Javascript object>"
      ]
     },
     "metadata": {},
     "output_type": "display_data"
    },
    {
     "data": {
      "application/javascript": [
       "\n",
       "        if (window._pyforest_update_imports_cell) { window._pyforest_update_imports_cell('import nltk'); }\n",
       "    "
      ],
      "text/plain": [
       "<IPython.core.display.Javascript object>"
      ]
     },
     "metadata": {},
     "output_type": "display_data"
    },
    {
     "data": {
      "application/javascript": [
       "\n",
       "        if (window._pyforest_update_imports_cell) { window._pyforest_update_imports_cell('import nltk'); }\n",
       "    "
      ],
      "text/plain": [
       "<IPython.core.display.Javascript object>"
      ]
     },
     "metadata": {},
     "output_type": "display_data"
    },
    {
     "data": {
      "application/javascript": [
       "\n",
       "        if (window._pyforest_update_imports_cell) { window._pyforest_update_imports_cell('import nltk'); }\n",
       "    "
      ],
      "text/plain": [
       "<IPython.core.display.Javascript object>"
      ]
     },
     "metadata": {},
     "output_type": "display_data"
    },
    {
     "data": {
      "application/javascript": [
       "\n",
       "        if (window._pyforest_update_imports_cell) { window._pyforest_update_imports_cell('import nltk'); }\n",
       "    "
      ],
      "text/plain": [
       "<IPython.core.display.Javascript object>"
      ]
     },
     "metadata": {},
     "output_type": "display_data"
    },
    {
     "data": {
      "application/javascript": [
       "\n",
       "        if (window._pyforest_update_imports_cell) { window._pyforest_update_imports_cell('import nltk'); }\n",
       "    "
      ],
      "text/plain": [
       "<IPython.core.display.Javascript object>"
      ]
     },
     "metadata": {},
     "output_type": "display_data"
    },
    {
     "data": {
      "application/javascript": [
       "\n",
       "        if (window._pyforest_update_imports_cell) { window._pyforest_update_imports_cell('import nltk'); }\n",
       "    "
      ],
      "text/plain": [
       "<IPython.core.display.Javascript object>"
      ]
     },
     "metadata": {},
     "output_type": "display_data"
    },
    {
     "data": {
      "application/javascript": [
       "\n",
       "        if (window._pyforest_update_imports_cell) { window._pyforest_update_imports_cell('import nltk'); }\n",
       "    "
      ],
      "text/plain": [
       "<IPython.core.display.Javascript object>"
      ]
     },
     "metadata": {},
     "output_type": "display_data"
    },
    {
     "data": {
      "application/javascript": [
       "\n",
       "        if (window._pyforest_update_imports_cell) { window._pyforest_update_imports_cell('import nltk'); }\n",
       "    "
      ],
      "text/plain": [
       "<IPython.core.display.Javascript object>"
      ]
     },
     "metadata": {},
     "output_type": "display_data"
    },
    {
     "data": {
      "application/javascript": [
       "\n",
       "        if (window._pyforest_update_imports_cell) { window._pyforest_update_imports_cell('import nltk'); }\n",
       "    "
      ],
      "text/plain": [
       "<IPython.core.display.Javascript object>"
      ]
     },
     "metadata": {},
     "output_type": "display_data"
    },
    {
     "data": {
      "application/javascript": [
       "\n",
       "        if (window._pyforest_update_imports_cell) { window._pyforest_update_imports_cell('import nltk'); }\n",
       "    "
      ],
      "text/plain": [
       "<IPython.core.display.Javascript object>"
      ]
     },
     "metadata": {},
     "output_type": "display_data"
    },
    {
     "data": {
      "application/javascript": [
       "\n",
       "        if (window._pyforest_update_imports_cell) { window._pyforest_update_imports_cell('import nltk'); }\n",
       "    "
      ],
      "text/plain": [
       "<IPython.core.display.Javascript object>"
      ]
     },
     "metadata": {},
     "output_type": "display_data"
    },
    {
     "data": {
      "application/javascript": [
       "\n",
       "        if (window._pyforest_update_imports_cell) { window._pyforest_update_imports_cell('import nltk'); }\n",
       "    "
      ],
      "text/plain": [
       "<IPython.core.display.Javascript object>"
      ]
     },
     "metadata": {},
     "output_type": "display_data"
    },
    {
     "data": {
      "application/javascript": [
       "\n",
       "        if (window._pyforest_update_imports_cell) { window._pyforest_update_imports_cell('import nltk'); }\n",
       "    "
      ],
      "text/plain": [
       "<IPython.core.display.Javascript object>"
      ]
     },
     "metadata": {},
     "output_type": "display_data"
    },
    {
     "data": {
      "application/javascript": [
       "\n",
       "        if (window._pyforest_update_imports_cell) { window._pyforest_update_imports_cell('import nltk'); }\n",
       "    "
      ],
      "text/plain": [
       "<IPython.core.display.Javascript object>"
      ]
     },
     "metadata": {},
     "output_type": "display_data"
    },
    {
     "data": {
      "application/javascript": [
       "\n",
       "        if (window._pyforest_update_imports_cell) { window._pyforest_update_imports_cell('import nltk'); }\n",
       "    "
      ],
      "text/plain": [
       "<IPython.core.display.Javascript object>"
      ]
     },
     "metadata": {},
     "output_type": "display_data"
    },
    {
     "data": {
      "application/javascript": [
       "\n",
       "        if (window._pyforest_update_imports_cell) { window._pyforest_update_imports_cell('import nltk'); }\n",
       "    "
      ],
      "text/plain": [
       "<IPython.core.display.Javascript object>"
      ]
     },
     "metadata": {},
     "output_type": "display_data"
    },
    {
     "data": {
      "application/javascript": [
       "\n",
       "        if (window._pyforest_update_imports_cell) { window._pyforest_update_imports_cell('import nltk'); }\n",
       "    "
      ],
      "text/plain": [
       "<IPython.core.display.Javascript object>"
      ]
     },
     "metadata": {},
     "output_type": "display_data"
    },
    {
     "data": {
      "application/javascript": [
       "\n",
       "        if (window._pyforest_update_imports_cell) { window._pyforest_update_imports_cell('import nltk'); }\n",
       "    "
      ],
      "text/plain": [
       "<IPython.core.display.Javascript object>"
      ]
     },
     "metadata": {},
     "output_type": "display_data"
    },
    {
     "data": {
      "application/javascript": [
       "\n",
       "        if (window._pyforest_update_imports_cell) { window._pyforest_update_imports_cell('import nltk'); }\n",
       "    "
      ],
      "text/plain": [
       "<IPython.core.display.Javascript object>"
      ]
     },
     "metadata": {},
     "output_type": "display_data"
    },
    {
     "data": {
      "application/javascript": [
       "\n",
       "        if (window._pyforest_update_imports_cell) { window._pyforest_update_imports_cell('import nltk'); }\n",
       "    "
      ],
      "text/plain": [
       "<IPython.core.display.Javascript object>"
      ]
     },
     "metadata": {},
     "output_type": "display_data"
    }
   ],
   "source": [
    "words = [nltk.word_tokenize(sen) for sen in sentence]"
   ]
  },
  {
   "cell_type": "code",
   "execution_count": 25,
   "metadata": {},
   "outputs": [
    {
     "data": {
      "text/plain": [
       "['i', 'have', 'three', 'visions', 'for', 'india', '.']"
      ]
     },
     "execution_count": 25,
     "metadata": {},
     "output_type": "execute_result"
    }
   ],
   "source": [
    "words[0]"
   ]
  },
  {
   "cell_type": "code",
   "execution_count": 18,
   "metadata": {},
   "outputs": [],
   "source": [
    "porterstem = PorterStemmer()\n",
    "lemmetizer = WordNetLemmatizer()"
   ]
  },
  {
   "cell_type": "code",
   "execution_count": 26,
   "metadata": {},
   "outputs": [],
   "source": [
    "for i in range(len(words)):\n",
    "    words[i] = [word for word in words[i] if word not in set(stopwords.words('english'))]"
   ]
  },
  {
   "cell_type": "code",
   "execution_count": 27,
   "metadata": {},
   "outputs": [
    {
     "data": {
      "text/plain": [
       "['three', 'visions', 'india', '.']"
      ]
     },
     "execution_count": 27,
     "metadata": {},
     "output_type": "execute_result"
    }
   ],
   "source": [
    "words[0]"
   ]
  },
  {
   "cell_type": "code",
   "execution_count": 42,
   "metadata": {},
   "outputs": [],
   "source": [
    "model1 = Word2Vec(words, min_count=1)"
   ]
  },
  {
   "cell_type": "code",
   "execution_count": 43,
   "metadata": {},
   "outputs": [],
   "source": [
    "word = model1.wv.vocab"
   ]
  },
  {
   "cell_type": "code",
   "execution_count": 44,
   "metadata": {},
   "outputs": [
    {
     "name": "stdout",
     "output_type": "stream",
     "text": [
      "{'three': <gensim.models.keyedvectors.Vocab object at 0x7f6bd5ecafd0>, 'visions': <gensim.models.keyedvectors.Vocab object at 0x7f6bd5ecac88>, 'india': <gensim.models.keyedvectors.Vocab object at 0x7f6bd5eca550>, '.': <gensim.models.keyedvectors.Vocab object at 0x7f6bd5eb8eb8>, 'years': <gensim.models.keyedvectors.Vocab object at 0x7f6bd5eb8860>, 'history': <gensim.models.keyedvectors.Vocab object at 0x7f6bd5eb8278>, ',': <gensim.models.keyedvectors.Vocab object at 0x7f6bd5eb8320>, 'people': <gensim.models.keyedvectors.Vocab object at 0x7f6bd5eb8358>, 'world': <gensim.models.keyedvectors.Vocab object at 0x7f6bd5eb8550>, 'come': <gensim.models.keyedvectors.Vocab object at 0x7f6bd5eb8470>, 'invaded': <gensim.models.keyedvectors.Vocab object at 0x7f6bd5eb84e0>, 'us': <gensim.models.keyedvectors.Vocab object at 0x7f6bd5eb8390>, 'captured': <gensim.models.keyedvectors.Vocab object at 0x7f6bd5eb8d68>, 'lands': <gensim.models.keyedvectors.Vocab object at 0x7f6bd5eb8400>, 'conquered': <gensim.models.keyedvectors.Vocab object at 0x7f6bd5eb86a0>, 'minds': <gensim.models.keyedvectors.Vocab object at 0x7f6bd5eb8198>, 'alexander': <gensim.models.keyedvectors.Vocab object at 0x7f6bd5eb85c0>, 'onwards': <gensim.models.keyedvectors.Vocab object at 0x7f6bd5eb8208>, 'greeks': <gensim.models.keyedvectors.Vocab object at 0x7f6bd5eb82b0>, 'turks': <gensim.models.keyedvectors.Vocab object at 0x7f6bd5eb82e8>, 'moguls': <gensim.models.keyedvectors.Vocab object at 0x7f6bd866be80>, 'portuguese': <gensim.models.keyedvectors.Vocab object at 0x7f6bd5ed2630>, 'british': <gensim.models.keyedvectors.Vocab object at 0x7f6bd5ed2470>, 'french': <gensim.models.keyedvectors.Vocab object at 0x7f6bd5ed21d0>, 'dutch': <gensim.models.keyedvectors.Vocab object at 0x7f6bd5ed2080>, 'came': <gensim.models.keyedvectors.Vocab object at 0x7f6bd5ed2160>, 'looted': <gensim.models.keyedvectors.Vocab object at 0x7f6bd5ed2a90>, 'took': <gensim.models.keyedvectors.Vocab object at 0x7f6bd5ed2198>, 'yet': <gensim.models.keyedvectors.Vocab object at 0x7f6bd5ed2710>, 'done': <gensim.models.keyedvectors.Vocab object at 0x7f6bd5ed2c88>, 'nation': <gensim.models.keyedvectors.Vocab object at 0x7f6bd5ed2c18>, 'anyone': <gensim.models.keyedvectors.Vocab object at 0x7f6bd5ed2dd8>, 'grabbed': <gensim.models.keyedvectors.Vocab object at 0x7f6bd5ed2d68>, 'land': <gensim.models.keyedvectors.Vocab object at 0x7f6bd5ed2ef0>, 'culture': <gensim.models.keyedvectors.Vocab object at 0x7f6bd5edf240>, 'tried': <gensim.models.keyedvectors.Vocab object at 0x7f6bd5edf160>, 'enforce': <gensim.models.keyedvectors.Vocab object at 0x7f6bd5edf470>, 'way': <gensim.models.keyedvectors.Vocab object at 0x7f6bd5edf400>, 'life': <gensim.models.keyedvectors.Vocab object at 0x7f6bd5edf4e0>, '?': <gensim.models.keyedvectors.Vocab object at 0x7f6bd5edf5f8>, 'respect': <gensim.models.keyedvectors.Vocab object at 0x7f6bd5edf588>, 'freedom': <gensim.models.keyedvectors.Vocab object at 0x7f6bd5edf630>, 'others.that': <gensim.models.keyedvectors.Vocab object at 0x7f6bd5edf668>, 'first': <gensim.models.keyedvectors.Vocab object at 0x7f6bd5edf6a0>, 'vision': <gensim.models.keyedvectors.Vocab object at 0x7f6bd5edf6d8>, 'believe': <gensim.models.keyedvectors.Vocab object at 0x7f6bd5edf828>, 'got': <gensim.models.keyedvectors.Vocab object at 0x7f6bd5edf7b8>, 'started': <gensim.models.keyedvectors.Vocab object at 0x7f6bd5edf898>, 'war': <gensim.models.keyedvectors.Vocab object at 0x7f6bd5edf9b0>, 'independence': <gensim.models.keyedvectors.Vocab object at 0x7f6bd5edf940>, 'must': <gensim.models.keyedvectors.Vocab object at 0x7f6bd5edf9e8>, 'protect': <gensim.models.keyedvectors.Vocab object at 0x7f6bd5edfa20>, 'nurture': <gensim.models.keyedvectors.Vocab object at 0x7f6bd5edfa58>, 'build': <gensim.models.keyedvectors.Vocab object at 0x7f6bd5edfa90>, 'free': <gensim.models.keyedvectors.Vocab object at 0x7f6bd5edfac8>, 'one': <gensim.models.keyedvectors.Vocab object at 0x7f6bd5edfb00>, 'second': <gensim.models.keyedvectors.Vocab object at 0x7f6bd5edfb38>, '’': <gensim.models.keyedvectors.Vocab object at 0x7f6bd5edfb70>, 'development': <gensim.models.keyedvectors.Vocab object at 0x7f6bd5edfc50>, 'fifty': <gensim.models.keyedvectors.Vocab object at 0x7f6bd5edfcc0>, 'developing': <gensim.models.keyedvectors.Vocab object at 0x7f6bd5edfd30>, 'time': <gensim.models.keyedvectors.Vocab object at 0x7f6bd5edfe48>, 'see': <gensim.models.keyedvectors.Vocab object at 0x7f6bd5edfdd8>, 'developed': <gensim.models.keyedvectors.Vocab object at 0x7f6bd5edfe80>, 'among': <gensim.models.keyedvectors.Vocab object at 0x7f6bd5edfeb8>, 'top': <gensim.models.keyedvectors.Vocab object at 0x7f6bd5edfef0>, 'nations': <gensim.models.keyedvectors.Vocab object at 0x7f6bd5edff28>, 'terms': <gensim.models.keyedvectors.Vocab object at 0x7f6bd5ea4e80>, 'gdp': <gensim.models.keyedvectors.Vocab object at 0x7f6bd5ea4080>, 'percent': <gensim.models.keyedvectors.Vocab object at 0x7f6bd5ea40f0>, 'growth': <gensim.models.keyedvectors.Vocab object at 0x7f6bd5ea4208>, 'rate': <gensim.models.keyedvectors.Vocab object at 0x7f6bd5ea4198>, 'areas': <gensim.models.keyedvectors.Vocab object at 0x7f6bd5ea4358>, 'poverty': <gensim.models.keyedvectors.Vocab object at 0x7f6bd5ea42e8>, 'levels': <gensim.models.keyedvectors.Vocab object at 0x7f6bd5ea43c8>, 'falling': <gensim.models.keyedvectors.Vocab object at 0x7f6bd5ea44e0>, 'achievements': <gensim.models.keyedvectors.Vocab object at 0x7f6bd5ea4470>, 'globally': <gensim.models.keyedvectors.Vocab object at 0x7f6bd5ea4518>, 'recognised': <gensim.models.keyedvectors.Vocab object at 0x7f6bd5ea4550>, 'today': <gensim.models.keyedvectors.Vocab object at 0x7f6bd5ea4588>, 'lack': <gensim.models.keyedvectors.Vocab object at 0x7f6bd5ea45c0>, 'self-confidence': <gensim.models.keyedvectors.Vocab object at 0x7f6bd5ea45f8>, 'self-reliant': <gensim.models.keyedvectors.Vocab object at 0x7f6bd5ea4630>, 'self-assured': <gensim.models.keyedvectors.Vocab object at 0x7f6bd5ea4668>, 'incorrect': <gensim.models.keyedvectors.Vocab object at 0x7f6bd5ea46a0>, 'third': <gensim.models.keyedvectors.Vocab object at 0x7f6bd5ea46d8>, 'stand': <gensim.models.keyedvectors.Vocab object at 0x7f6bd5ea4710>, 'unless': <gensim.models.keyedvectors.Vocab object at 0x7f6bd5ea4748>, 'stands': <gensim.models.keyedvectors.Vocab object at 0x7f6bd5ea4828>, 'strength': <gensim.models.keyedvectors.Vocab object at 0x7f6bd5ea4898>, 'respects': <gensim.models.keyedvectors.Vocab object at 0x7f6bd5ea4908>, 'strong': <gensim.models.keyedvectors.Vocab object at 0x7f6bd5ea4a20>, 'military': <gensim.models.keyedvectors.Vocab object at 0x7f6bd5ea49b0>, 'power': <gensim.models.keyedvectors.Vocab object at 0x7f6bd5ea4a58>, 'also': <gensim.models.keyedvectors.Vocab object at 0x7f6bd5ea4a90>, 'economic': <gensim.models.keyedvectors.Vocab object at 0x7f6bd5ea4ac8>, 'go': <gensim.models.keyedvectors.Vocab object at 0x7f6bd5ea4b00>, 'hand-in-hand': <gensim.models.keyedvectors.Vocab object at 0x7f6bd5ea4b38>, 'good': <gensim.models.keyedvectors.Vocab object at 0x7f6bd5ea4b70>, 'fortune': <gensim.models.keyedvectors.Vocab object at 0x7f6bd5ea4ba8>, 'worked': <gensim.models.keyedvectors.Vocab object at 0x7f6bd5ea4be0>, 'great': <gensim.models.keyedvectors.Vocab object at 0x7f6bd5ea4c18>, 'dr.': <gensim.models.keyedvectors.Vocab object at 0x7f6bd5ea4c50>, 'vikram': <gensim.models.keyedvectors.Vocab object at 0x7f6bd5ea4f98>, 'sarabhai': <gensim.models.keyedvectors.Vocab object at 0x7f6bd5fe77f0>, 'dept': <gensim.models.keyedvectors.Vocab object at 0x7f6bd5fe7518>, 'space': <gensim.models.keyedvectors.Vocab object at 0x7f6bd5fe7400>, 'professor': <gensim.models.keyedvectors.Vocab object at 0x7f6bd5fe7470>, 'satish': <gensim.models.keyedvectors.Vocab object at 0x7f6bd5fe7438>, 'dhawan': <gensim.models.keyedvectors.Vocab object at 0x7f6bd5fe74e0>, 'succeeded': <gensim.models.keyedvectors.Vocab object at 0x7f6bd5fe7550>, 'brahm': <gensim.models.keyedvectors.Vocab object at 0x7f6bd5fe7588>, 'prakash': <gensim.models.keyedvectors.Vocab object at 0x7f6bd5fe75c0>, 'father': <gensim.models.keyedvectors.Vocab object at 0x7f6bd5fe75f8>, 'nuclear': <gensim.models.keyedvectors.Vocab object at 0x7f6bd5fe7630>, 'material': <gensim.models.keyedvectors.Vocab object at 0x7f6bd5fe7668>, 'lucky': <gensim.models.keyedvectors.Vocab object at 0x7f6bd5fe76a0>, 'closely': <gensim.models.keyedvectors.Vocab object at 0x7f6bd5fe76d8>, 'consider': <gensim.models.keyedvectors.Vocab object at 0x7f6bd5fe7710>, 'opportunity': <gensim.models.keyedvectors.Vocab object at 0x7f6bd5fe7748>, 'four': <gensim.models.keyedvectors.Vocab object at 0x7f6bd5fe7780>, 'milestones': <gensim.models.keyedvectors.Vocab object at 0x7f6bd5fe77b8>, 'career': <gensim.models.keyedvectors.Vocab object at 0x7f6bd5fe7828>}\n"
     ]
    }
   ],
   "source": [
    "print(word)"
   ]
  },
  {
   "cell_type": "code",
   "execution_count": 45,
   "metadata": {},
   "outputs": [],
   "source": [
    "vector = model1.wv['war']"
   ]
  },
  {
   "cell_type": "code",
   "execution_count": 46,
   "metadata": {},
   "outputs": [
    {
     "data": {
      "text/plain": [
       "array([ 3.1659361e-03, -1.3105042e-03,  2.9152534e-03, -1.2169094e-03,\n",
       "        2.3073852e-03, -3.5976505e-04,  7.2230323e-04, -1.1674819e-03,\n",
       "       -2.0568306e-03, -8.5105776e-04,  1.1607218e-03, -5.9519755e-04,\n",
       "        4.9643922e-03, -5.3305906e-04,  1.2660527e-03, -2.4969087e-03,\n",
       "       -3.7044594e-03,  6.3352933e-04,  4.1785129e-04, -3.2879508e-03,\n",
       "       -1.8857036e-03,  2.4898967e-03,  3.8725594e-03, -3.2594260e-03,\n",
       "       -2.2319055e-03,  3.1273460e-03,  4.1204700e-03, -1.1482171e-03,\n",
       "       -4.0507806e-03, -3.9712959e-03,  3.1540859e-03, -7.7716669e-04,\n",
       "        3.4271268e-04, -4.7134249e-03, -3.8701030e-03, -3.4987705e-04,\n",
       "       -3.2977862e-03,  2.2015404e-03,  7.4665516e-04, -4.7005797e-03,\n",
       "       -3.7372191e-03, -4.5638247e-03, -3.7939509e-03, -9.3622535e-04,\n",
       "       -2.7909020e-03,  3.8188046e-03,  1.8957184e-03, -7.8160939e-04,\n",
       "       -4.7166408e-03, -4.5548961e-03,  1.0861453e-03,  1.8773782e-03,\n",
       "        5.9445323e-05,  2.0170130e-03,  2.3147075e-03, -1.8121427e-04,\n",
       "       -2.9696128e-03,  1.6788306e-03,  1.8979202e-03, -3.3575648e-03,\n",
       "        2.4146130e-03,  3.1795859e-04,  1.5322858e-03, -2.2685097e-03,\n",
       "       -4.6941633e-03, -3.1521006e-03, -3.2813728e-03, -1.5422022e-03,\n",
       "        3.4091334e-04, -1.9594929e-03, -3.6030300e-03, -1.8900143e-03,\n",
       "        4.6366407e-03, -9.9192851e-04,  1.6040567e-03,  1.6583309e-03,\n",
       "        3.0046862e-03,  3.2446656e-04, -3.7601544e-03,  5.7512696e-04,\n",
       "        3.5511439e-03,  3.2950640e-03, -3.4222968e-03,  4.7636931e-03,\n",
       "       -1.4919925e-03, -3.0191257e-03, -4.9213506e-03,  4.4116280e-03,\n",
       "       -2.8599764e-03, -4.5285630e-03,  4.6358895e-03, -2.7703089e-03,\n",
       "       -6.4587855e-04,  4.5048753e-03,  3.6620419e-03,  3.4355710e-04,\n",
       "        9.0743270e-05, -4.0352889e-03,  2.4219863e-04, -1.0756899e-03],\n",
       "      dtype=float32)"
      ]
     },
     "execution_count": 46,
     "metadata": {},
     "output_type": "execute_result"
    }
   ],
   "source": [
    "# vector.shape\n",
    "vector"
   ]
  },
  {
   "cell_type": "code",
   "execution_count": 51,
   "metadata": {},
   "outputs": [],
   "source": [
    "similar = model1.wv.most_similar('vikram')"
   ]
  },
  {
   "cell_type": "code",
   "execution_count": null,
   "metadata": {},
   "outputs": [
    {
     "data": {
      "text/plain": [
       "[('vision', 0.2356942892074585),\n",
       " ('milestones', 0.21572160720825195),\n",
       " ('turks', 0.20599448680877686),\n",
       " ('opportunity', 0.20552483201026917),\n",
       " ('world', 0.18842488527297974),\n",
       " ('way', 0.16944248974323273),\n",
       " ('levels', 0.16710804402828217),\n",
       " ('stands', 0.16482673585414886),\n",
       " ('sarabhai', 0.15392574667930603),\n",
       " ('falling', 0.15349960327148438)]"
      ]
     },
     "execution_count": 52,
     "metadata": {},
     "output_type": "execute_result"
    }
   ],
   "source": [
    "similar"
   ]
  },
  {
   "cell_type": "code",
   "execution_count": null,
   "metadata": {},
   "outputs": [],
   "source": []
  }
 ],
 "metadata": {
  "kernelspec": {
   "display_name": "Python 3",
   "language": "python",
   "name": "python3"
  },
  "language_info": {
   "codemirror_mode": {
    "name": "ipython",
    "version": 3
   },
   "file_extension": ".py",
   "mimetype": "text/x-python",
   "name": "python",
   "nbconvert_exporter": "python",
   "pygments_lexer": "ipython3",
   "version": "3.6.8"
  }
 },
 "nbformat": 4,
 "nbformat_minor": 4
}
