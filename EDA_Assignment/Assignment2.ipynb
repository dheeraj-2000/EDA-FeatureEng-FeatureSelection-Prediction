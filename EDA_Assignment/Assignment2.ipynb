{
 "cells": [
  {
   "cell_type": "code",
   "execution_count": 1,
   "metadata": {},
   "outputs": [],
   "source": [
    "import pandas as pd\n",
    "import numpy as np\n",
    "import matplotlib.pyplot as plt\n",
    "import seaborn as sns\n",
    "%matplotlib inline"
   ]
  },
  {
   "cell_type": "code",
   "execution_count": 1,
   "metadata": {},
   "outputs": [
    {
     "data": {
      "text/plain": [
       "['-7', '1', '2']"
      ]
     },
     "execution_count": 1,
     "metadata": {},
     "output_type": "execute_result"
    }
   ],
   "source": [
    "x = [\"1\", \"2\", \"-7\"]\n",
    "sorted(x)"
   ]
  },
  {
   "cell_type": "code",
   "execution_count": 2,
   "metadata": {},
   "outputs": [
    {
     "data": {
      "text/html": [
       "<div>\n",
       "<style scoped>\n",
       "    .dataframe tbody tr th:only-of-type {\n",
       "        vertical-align: middle;\n",
       "    }\n",
       "\n",
       "    .dataframe tbody tr th {\n",
       "        vertical-align: top;\n",
       "    }\n",
       "\n",
       "    .dataframe thead th {\n",
       "        text-align: right;\n",
       "    }\n",
       "</style>\n",
       "<table border=\"1\" class=\"dataframe\">\n",
       "  <thead>\n",
       "    <tr style=\"text-align: right;\">\n",
       "      <th></th>\n",
       "      <th>SKU</th>\n",
       "      <th>01/08/2019</th>\n",
       "      <th>02/08/2019</th>\n",
       "      <th>03/08/2019</th>\n",
       "      <th>04/08/2019</th>\n",
       "      <th>05/08/2019</th>\n",
       "      <th>06/08/2019</th>\n",
       "      <th>07/08/2019</th>\n",
       "      <th>08/08/2019</th>\n",
       "      <th>09/08/2019</th>\n",
       "      <th>...</th>\n",
       "      <th>22/07/2020</th>\n",
       "      <th>23/07/2020</th>\n",
       "      <th>24/07/2020</th>\n",
       "      <th>25/07/2020</th>\n",
       "      <th>26/07/2020</th>\n",
       "      <th>27/07/2020</th>\n",
       "      <th>28/07/2020</th>\n",
       "      <th>29/07/2020</th>\n",
       "      <th>30/07/2020</th>\n",
       "      <th>31/07/2020</th>\n",
       "    </tr>\n",
       "  </thead>\n",
       "  <tbody>\n",
       "    <tr>\n",
       "      <th>0</th>\n",
       "      <td>2527</td>\n",
       "      <td>1551</td>\n",
       "      <td>1613</td>\n",
       "      <td>1613</td>\n",
       "      <td>1532</td>\n",
       "      <td>1517</td>\n",
       "      <td>1441</td>\n",
       "      <td>1383</td>\n",
       "      <td>1424</td>\n",
       "      <td>1381</td>\n",
       "      <td>...</td>\n",
       "      <td>1929</td>\n",
       "      <td>1948</td>\n",
       "      <td>1929</td>\n",
       "      <td>1987</td>\n",
       "      <td>2027</td>\n",
       "      <td>1926</td>\n",
       "      <td>1926</td>\n",
       "      <td>1849</td>\n",
       "      <td>1904</td>\n",
       "      <td>1828</td>\n",
       "    </tr>\n",
       "    <tr>\n",
       "      <th>1</th>\n",
       "      <td>3042</td>\n",
       "      <td>2240</td>\n",
       "      <td>2330</td>\n",
       "      <td>2423</td>\n",
       "      <td>2350</td>\n",
       "      <td>2374</td>\n",
       "      <td>2398</td>\n",
       "      <td>2278</td>\n",
       "      <td>2210</td>\n",
       "      <td>2232</td>\n",
       "      <td>...</td>\n",
       "      <td>7096</td>\n",
       "      <td>7025</td>\n",
       "      <td>6955</td>\n",
       "      <td>6746</td>\n",
       "      <td>6881</td>\n",
       "      <td>6606</td>\n",
       "      <td>6804</td>\n",
       "      <td>6872</td>\n",
       "      <td>6872</td>\n",
       "      <td>7078</td>\n",
       "    </tr>\n",
       "    <tr>\n",
       "      <th>2</th>\n",
       "      <td>3086</td>\n",
       "      <td>891</td>\n",
       "      <td>909</td>\n",
       "      <td>936</td>\n",
       "      <td>889</td>\n",
       "      <td>880</td>\n",
       "      <td>906</td>\n",
       "      <td>870</td>\n",
       "      <td>879</td>\n",
       "      <td>844</td>\n",
       "      <td>...</td>\n",
       "      <td>829</td>\n",
       "      <td>829</td>\n",
       "      <td>812</td>\n",
       "      <td>788</td>\n",
       "      <td>788</td>\n",
       "      <td>772</td>\n",
       "      <td>811</td>\n",
       "      <td>803</td>\n",
       "      <td>763</td>\n",
       "      <td>763</td>\n",
       "    </tr>\n",
       "    <tr>\n",
       "      <th>3</th>\n",
       "      <td>3155</td>\n",
       "      <td>1628</td>\n",
       "      <td>1628</td>\n",
       "      <td>1563</td>\n",
       "      <td>1532</td>\n",
       "      <td>1563</td>\n",
       "      <td>1563</td>\n",
       "      <td>1532</td>\n",
       "      <td>1593</td>\n",
       "      <td>1513</td>\n",
       "      <td>...</td>\n",
       "      <td>1719</td>\n",
       "      <td>1805</td>\n",
       "      <td>1895</td>\n",
       "      <td>1895</td>\n",
       "      <td>1990</td>\n",
       "      <td>2030</td>\n",
       "      <td>2050</td>\n",
       "      <td>2132</td>\n",
       "      <td>2111</td>\n",
       "      <td>2027</td>\n",
       "    </tr>\n",
       "    <tr>\n",
       "      <th>4</th>\n",
       "      <td>3166</td>\n",
       "      <td>369</td>\n",
       "      <td>354</td>\n",
       "      <td>343</td>\n",
       "      <td>340</td>\n",
       "      <td>330</td>\n",
       "      <td>337</td>\n",
       "      <td>350</td>\n",
       "      <td>343</td>\n",
       "      <td>340</td>\n",
       "      <td>...</td>\n",
       "      <td>335</td>\n",
       "      <td>328</td>\n",
       "      <td>325</td>\n",
       "      <td>319</td>\n",
       "      <td>316</td>\n",
       "      <td>319</td>\n",
       "      <td>329</td>\n",
       "      <td>336</td>\n",
       "      <td>349</td>\n",
       "      <td>352</td>\n",
       "    </tr>\n",
       "  </tbody>\n",
       "</table>\n",
       "<p>5 rows × 367 columns</p>\n",
       "</div>"
      ],
      "text/plain": [
       "    SKU  01/08/2019  02/08/2019  03/08/2019  04/08/2019  05/08/2019  \\\n",
       "0  2527        1551        1613        1613        1532        1517   \n",
       "1  3042        2240        2330        2423        2350        2374   \n",
       "2  3086         891         909         936         889         880   \n",
       "3  3155        1628        1628        1563        1532        1563   \n",
       "4  3166         369         354         343         340         330   \n",
       "\n",
       "   06/08/2019  07/08/2019  08/08/2019  09/08/2019  ...  22/07/2020  \\\n",
       "0        1441        1383        1424        1381  ...        1929   \n",
       "1        2398        2278        2210        2232  ...        7096   \n",
       "2         906         870         879         844  ...         829   \n",
       "3        1563        1532        1593        1513  ...        1719   \n",
       "4         337         350         343         340  ...         335   \n",
       "\n",
       "   23/07/2020  24/07/2020  25/07/2020  26/07/2020  27/07/2020  28/07/2020  \\\n",
       "0        1948        1929        1987        2027        1926        1926   \n",
       "1        7025        6955        6746        6881        6606        6804   \n",
       "2         829         812         788         788         772         811   \n",
       "3        1805        1895        1895        1990        2030        2050   \n",
       "4         328         325         319         316         319         329   \n",
       "\n",
       "   29/07/2020  30/07/2020  31/07/2020  \n",
       "0        1849        1904        1828  \n",
       "1        6872        6872        7078  \n",
       "2         803         763         763  \n",
       "3        2132        2111        2027  \n",
       "4         336         349         352  \n",
       "\n",
       "[5 rows x 367 columns]"
      ]
     },
     "execution_count": 2,
     "metadata": {},
     "output_type": "execute_result"
    }
   ],
   "source": [
    "df = pd.read_csv('/home/dheeraj/my_projects/my_project_env/practice/EDA_and_prediction/sku.csv')\n",
    "df.head()"
   ]
  },
  {
   "cell_type": "code",
   "execution_count": 110,
   "metadata": {},
   "outputs": [
    {
     "data": {
      "text/html": [
       "<div>\n",
       "<style scoped>\n",
       "    .dataframe tbody tr th:only-of-type {\n",
       "        vertical-align: middle;\n",
       "    }\n",
       "\n",
       "    .dataframe tbody tr th {\n",
       "        vertical-align: top;\n",
       "    }\n",
       "\n",
       "    .dataframe thead th {\n",
       "        text-align: right;\n",
       "    }\n",
       "</style>\n",
       "<table border=\"1\" class=\"dataframe\">\n",
       "  <thead>\n",
       "    <tr style=\"text-align: right;\">\n",
       "      <th></th>\n",
       "      <th>01/08/2019</th>\n",
       "      <th>02/08/2019</th>\n",
       "      <th>03/08/2019</th>\n",
       "      <th>04/08/2019</th>\n",
       "      <th>05/08/2019</th>\n",
       "      <th>06/08/2019</th>\n",
       "      <th>07/08/2019</th>\n",
       "      <th>08/08/2019</th>\n",
       "      <th>09/08/2019</th>\n",
       "      <th>10/08/2019</th>\n",
       "      <th>...</th>\n",
       "      <th>22/08/2019</th>\n",
       "      <th>23/08/2019</th>\n",
       "      <th>24/08/2019</th>\n",
       "      <th>25/08/2019</th>\n",
       "      <th>26/08/2019</th>\n",
       "      <th>27/08/2019</th>\n",
       "      <th>28/08/2019</th>\n",
       "      <th>29/08/2019</th>\n",
       "      <th>30/08/2019</th>\n",
       "      <th>31/08/2019</th>\n",
       "    </tr>\n",
       "  </thead>\n",
       "  <tbody>\n",
       "    <tr>\n",
       "      <th>2</th>\n",
       "      <td>891</td>\n",
       "      <td>909</td>\n",
       "      <td>936</td>\n",
       "      <td>889</td>\n",
       "      <td>880</td>\n",
       "      <td>906</td>\n",
       "      <td>870</td>\n",
       "      <td>879</td>\n",
       "      <td>844</td>\n",
       "      <td>852</td>\n",
       "      <td>...</td>\n",
       "      <td>892</td>\n",
       "      <td>901</td>\n",
       "      <td>883</td>\n",
       "      <td>865</td>\n",
       "      <td>865</td>\n",
       "      <td>874</td>\n",
       "      <td>900</td>\n",
       "      <td>927</td>\n",
       "      <td>890</td>\n",
       "      <td>854</td>\n",
       "    </tr>\n",
       "  </tbody>\n",
       "</table>\n",
       "<p>1 rows × 31 columns</p>\n",
       "</div>"
      ],
      "text/plain": [
       "   01/08/2019  02/08/2019  03/08/2019  04/08/2019  05/08/2019  06/08/2019  \\\n",
       "2         891         909         936         889         880         906   \n",
       "\n",
       "   07/08/2019  08/08/2019  09/08/2019  10/08/2019  ...  22/08/2019  \\\n",
       "2         870         879         844         852  ...         892   \n",
       "\n",
       "   23/08/2019  24/08/2019  25/08/2019  26/08/2019  27/08/2019  28/08/2019  \\\n",
       "2         901         883         865         865         874         900   \n",
       "\n",
       "   29/08/2019  30/08/2019  31/08/2019  \n",
       "2         927         890         854  \n",
       "\n",
       "[1 rows x 31 columns]"
      ]
     },
     "execution_count": 110,
     "metadata": {},
     "output_type": "execute_result"
    }
   ],
   "source": [
    "df.iloc[2:3, 1:32]"
   ]
  },
  {
   "cell_type": "code",
   "execution_count": 60,
   "metadata": {},
   "outputs": [
    {
     "data": {
      "text/plain": [
       "2166.671542379522"
      ]
     },
     "execution_count": 60,
     "metadata": {},
     "output_type": "execute_result"
    }
   ],
   "source": [
    "aug = df.iloc[0:, 1:32].mean().mean()\n",
    "aug\n"
   ]
  },
  {
   "cell_type": "code",
   "execution_count": 61,
   "metadata": {},
   "outputs": [
    {
     "data": {
      "text/plain": [
       "2335.942105263158"
      ]
     },
     "execution_count": 61,
     "metadata": {},
     "output_type": "execute_result"
    }
   ],
   "source": [
    "sep = df.iloc[0:, 32:62].mean().mean()\n",
    "sep"
   ]
  },
  {
   "cell_type": "code",
   "execution_count": 63,
   "metadata": {},
   "outputs": [
    {
     "data": {
      "text/plain": [
       "2389.984066866919"
      ]
     },
     "execution_count": 63,
     "metadata": {},
     "output_type": "execute_result"
    }
   ],
   "source": [
    "octu = df.iloc[0:, 62:93].mean().mean()\n",
    "octu"
   ]
  },
  {
   "cell_type": "code",
   "execution_count": 64,
   "metadata": {},
   "outputs": [
    {
     "data": {
      "text/plain": [
       "2422.9439946018892"
      ]
     },
     "execution_count": 64,
     "metadata": {},
     "output_type": "execute_result"
    }
   ],
   "source": [
    "nov = df.iloc[0:, 93:123].mean().mean()\n",
    "nov"
   ]
  },
  {
   "cell_type": "code",
   "execution_count": 65,
   "metadata": {},
   "outputs": [
    {
     "data": {
      "text/plain": [
       "2551.4261460101866"
      ]
     },
     "execution_count": 65,
     "metadata": {},
     "output_type": "execute_result"
    }
   ],
   "source": [
    "dec = df.iloc[0:, 123:154].mean().mean()\n",
    "dec"
   ]
  },
  {
   "cell_type": "code",
   "execution_count": 66,
   "metadata": {},
   "outputs": [
    {
     "data": {
      "text/plain": [
       "2503.6044142614605"
      ]
     },
     "execution_count": 66,
     "metadata": {},
     "output_type": "execute_result"
    }
   ],
   "source": [
    "jan = df.iloc[0:, 154:185].mean().mean()\n",
    "jan"
   ]
  },
  {
   "cell_type": "code",
   "execution_count": 67,
   "metadata": {},
   "outputs": [
    {
     "data": {
      "text/plain": [
       "2509.208013402206"
      ]
     },
     "execution_count": 67,
     "metadata": {},
     "output_type": "execute_result"
    }
   ],
   "source": [
    "feb = df.iloc[0:, 185:214].mean().mean()\n",
    "feb"
   ]
  },
  {
   "cell_type": "code",
   "execution_count": 68,
   "metadata": {},
   "outputs": [
    {
     "data": {
      "text/plain": [
       "2642.623742980279"
      ]
     },
     "execution_count": 68,
     "metadata": {},
     "output_type": "execute_result"
    }
   ],
   "source": [
    "march = df.iloc[0:, 214:245].mean().mean()\n",
    "march"
   ]
  },
  {
   "cell_type": "code",
   "execution_count": 69,
   "metadata": {},
   "outputs": [
    {
     "data": {
      "text/plain": [
       "2578.066396761133"
      ]
     },
     "execution_count": 69,
     "metadata": {},
     "output_type": "execute_result"
    }
   ],
   "source": [
    "april= df.iloc[0:, 245:275].mean().mean()\n",
    "april"
   ]
  },
  {
   "cell_type": "code",
   "execution_count": 70,
   "metadata": {},
   "outputs": [
    {
     "data": {
      "text/plain": [
       "2423.3964999347"
      ]
     },
     "execution_count": 70,
     "metadata": {},
     "output_type": "execute_result"
    }
   ],
   "source": [
    "may= df.iloc[0:, 275:306].mean().mean()\n",
    "may"
   ]
  },
  {
   "cell_type": "code",
   "execution_count": 71,
   "metadata": {},
   "outputs": [
    {
     "data": {
      "text/plain": [
       "2470.1121457489876"
      ]
     },
     "execution_count": 71,
     "metadata": {},
     "output_type": "execute_result"
    }
   ],
   "source": [
    "june= df.iloc[0:, 306:336].mean().mean()\n",
    "june\n"
   ]
  },
  {
   "cell_type": "code",
   "execution_count": 72,
   "metadata": {},
   "outputs": [
    {
     "data": {
      "text/plain": [
       "2454.717382786993"
      ]
     },
     "execution_count": 72,
     "metadata": {},
     "output_type": "execute_result"
    }
   ],
   "source": [
    "july= df.iloc[0:, 336:367].mean().mean()\n",
    "july"
   ]
  },
  {
   "cell_type": "code",
   "execution_count": 86,
   "metadata": {},
   "outputs": [
    {
     "ename": "NameError",
     "evalue": "name 'l' is not defined",
     "output_type": "error",
     "traceback": [
      "\u001b[0;31m---------------------------------------------------------------------------\u001b[0m",
      "\u001b[0;31mNameError\u001b[0m                                 Traceback (most recent call last)",
      "\u001b[0;32m<ipython-input-86-d76641f7459d>\u001b[0m in \u001b[0;36m<module>\u001b[0;34m\u001b[0m\n\u001b[0;32m----> 1\u001b[0;31m \u001b[0ml\u001b[0m\u001b[0;34m.\u001b[0m\u001b[0mappend\u001b[0m\u001b[0;34m(\u001b[0m\u001b[0mdf\u001b[0m\u001b[0;34m.\u001b[0m\u001b[0miloc\u001b[0m\u001b[0;34m[\u001b[0m\u001b[0mindex\u001b[0m\u001b[0;34m,\u001b[0m \u001b[0;36m1\u001b[0m\u001b[0;34m:\u001b[0m\u001b[0;36m32\u001b[0m\u001b[0;34m]\u001b[0m\u001b[0;34m)\u001b[0m\u001b[0;34m\u001b[0m\u001b[0;34m\u001b[0m\u001b[0m\n\u001b[0m\u001b[1;32m      2\u001b[0m \u001b[0ml\u001b[0m\u001b[0;34m.\u001b[0m\u001b[0mappend\u001b[0m\u001b[0;34m(\u001b[0m\u001b[0mdf\u001b[0m\u001b[0;34m.\u001b[0m\u001b[0miloc\u001b[0m\u001b[0;34m[\u001b[0m\u001b[0mindex\u001b[0m\u001b[0;34m,\u001b[0m \u001b[0;36m32\u001b[0m\u001b[0;34m:\u001b[0m\u001b[0;36m62\u001b[0m\u001b[0;34m]\u001b[0m\u001b[0;34m)\u001b[0m\u001b[0;34m\u001b[0m\u001b[0;34m\u001b[0m\u001b[0m\n\u001b[1;32m      3\u001b[0m \u001b[0ml\u001b[0m\u001b[0;34m.\u001b[0m\u001b[0mappend\u001b[0m\u001b[0;34m(\u001b[0m\u001b[0mdf\u001b[0m\u001b[0;34m.\u001b[0m\u001b[0miloc\u001b[0m\u001b[0;34m[\u001b[0m\u001b[0mindex\u001b[0m\u001b[0;34m,\u001b[0m \u001b[0;36m62\u001b[0m\u001b[0;34m:\u001b[0m\u001b[0;36m93\u001b[0m\u001b[0;34m]\u001b[0m\u001b[0;34m)\u001b[0m\u001b[0;34m\u001b[0m\u001b[0;34m\u001b[0m\u001b[0m\n\u001b[1;32m      4\u001b[0m \u001b[0ml\u001b[0m\u001b[0;34m.\u001b[0m\u001b[0mappend\u001b[0m\u001b[0;34m(\u001b[0m\u001b[0mdf\u001b[0m\u001b[0;34m.\u001b[0m\u001b[0miloc\u001b[0m\u001b[0;34m[\u001b[0m\u001b[0mindex\u001b[0m\u001b[0;34m,\u001b[0m \u001b[0;36m93\u001b[0m\u001b[0;34m:\u001b[0m\u001b[0;36m123\u001b[0m\u001b[0;34m]\u001b[0m\u001b[0;34m)\u001b[0m\u001b[0;34m\u001b[0m\u001b[0;34m\u001b[0m\u001b[0m\n\u001b[1;32m      5\u001b[0m \u001b[0;34m\u001b[0m\u001b[0m\n",
      "\u001b[0;31mNameError\u001b[0m: name 'l' is not defined"
     ]
    }
   ],
   "source": [
    "    l.append(df.iloc[index, 1:32])\n",
    "    l.append(df.iloc[index, 32:62])\n",
    "    l.append(df.iloc[index, 62:93])\n",
    "    l.append(df.iloc[index, 93:123])\n",
    "    \n",
    "    l.append(df.iloc[index, 123::32])\n",
    "    l.append(df.iloc[index, 1:32])\n",
    "    l.append(df.iloc[index, 1:32])\n",
    "    l.append(df.iloc[index, 1:32])\n",
    "    l.append(df.iloc[index, 1:32])\n",
    "    l.append(df.iloc[index, 1:32])\n",
    "    l.append(df.iloc[index, 1:32])\n",
    "    l.append(df.iloc[index, 1:32])"
   ]
  },
  {
   "cell_type": "code",
   "execution_count": 207,
   "metadata": {},
   "outputs": [
    {
     "data": {
      "text/html": [
       "<div>\n",
       "<style scoped>\n",
       "    .dataframe tbody tr th:only-of-type {\n",
       "        vertical-align: middle;\n",
       "    }\n",
       "\n",
       "    .dataframe tbody tr th {\n",
       "        vertical-align: top;\n",
       "    }\n",
       "\n",
       "    .dataframe thead th {\n",
       "        text-align: right;\n",
       "    }\n",
       "</style>\n",
       "<table border=\"1\" class=\"dataframe\">\n",
       "  <thead>\n",
       "    <tr style=\"text-align: right;\">\n",
       "      <th></th>\n",
       "      <th>2527</th>\n",
       "      <th>3042</th>\n",
       "      <th>3086</th>\n",
       "      <th>3155</th>\n",
       "      <th>3166</th>\n",
       "      <th>8272</th>\n",
       "      <th>9311</th>\n",
       "      <th>13159</th>\n",
       "      <th>13160</th>\n",
       "      <th>14011</th>\n",
       "      <th>...</th>\n",
       "      <th>PPAM05126</th>\n",
       "      <th>PPAM05156</th>\n",
       "      <th>PPAM06156</th>\n",
       "      <th>PPAM07156</th>\n",
       "      <th>PPAM08156</th>\n",
       "      <th>PPAM11156</th>\n",
       "      <th>PSTM01257</th>\n",
       "      <th>PSTM01457</th>\n",
       "      <th>WIM5011B</th>\n",
       "      <th>WIM51234</th>\n",
       "    </tr>\n",
       "  </thead>\n",
       "  <tbody>\n",
       "    <tr>\n",
       "      <th>0</th>\n",
       "      <td>1074.426230</td>\n",
       "      <td>2345.852459</td>\n",
       "      <td>993.098361</td>\n",
       "      <td>1550.467213</td>\n",
       "      <td>377.754098</td>\n",
       "      <td>1130.754098</td>\n",
       "      <td>517.491803</td>\n",
       "      <td>61.655738</td>\n",
       "      <td>55.147541</td>\n",
       "      <td>6.0</td>\n",
       "      <td>...</td>\n",
       "      <td>31.040984</td>\n",
       "      <td>45.163934</td>\n",
       "      <td>18.459016</td>\n",
       "      <td>81.311475</td>\n",
       "      <td>106.844262</td>\n",
       "      <td>2.0</td>\n",
       "      <td>24.163934</td>\n",
       "      <td>10.598361</td>\n",
       "      <td>76.409836</td>\n",
       "      <td>2.0</td>\n",
       "    </tr>\n",
       "    <tr>\n",
       "      <th>1</th>\n",
       "      <td>817.893443</td>\n",
       "      <td>2771.688525</td>\n",
       "      <td>1081.721311</td>\n",
       "      <td>2302.844262</td>\n",
       "      <td>392.967213</td>\n",
       "      <td>589.893443</td>\n",
       "      <td>276.213115</td>\n",
       "      <td>68.163934</td>\n",
       "      <td>37.893443</td>\n",
       "      <td>6.0</td>\n",
       "      <td>...</td>\n",
       "      <td>38.131148</td>\n",
       "      <td>51.401639</td>\n",
       "      <td>13.213115</td>\n",
       "      <td>101.106557</td>\n",
       "      <td>132.991803</td>\n",
       "      <td>2.0</td>\n",
       "      <td>24.467213</td>\n",
       "      <td>10.204918</td>\n",
       "      <td>51.721311</td>\n",
       "      <td>2.0</td>\n",
       "    </tr>\n",
       "    <tr>\n",
       "      <th>2</th>\n",
       "      <td>1538.655738</td>\n",
       "      <td>4998.631148</td>\n",
       "      <td>800.245902</td>\n",
       "      <td>1908.147541</td>\n",
       "      <td>337.754098</td>\n",
       "      <td>824.590164</td>\n",
       "      <td>287.139344</td>\n",
       "      <td>44.950820</td>\n",
       "      <td>35.540984</td>\n",
       "      <td>6.0</td>\n",
       "      <td>...</td>\n",
       "      <td>12.459016</td>\n",
       "      <td>39.942623</td>\n",
       "      <td>11.663934</td>\n",
       "      <td>107.385246</td>\n",
       "      <td>219.393443</td>\n",
       "      <td>2.0</td>\n",
       "      <td>24.549180</td>\n",
       "      <td>12.500000</td>\n",
       "      <td>28.442623</td>\n",
       "      <td>2.0</td>\n",
       "    </tr>\n",
       "  </tbody>\n",
       "</table>\n",
       "<p>3 rows × 247 columns</p>\n",
       "</div>"
      ],
      "text/plain": [
       "          2527         3042         3086         3155        3166  \\\n",
       "0  1074.426230  2345.852459   993.098361  1550.467213  377.754098   \n",
       "1   817.893443  2771.688525  1081.721311  2302.844262  392.967213   \n",
       "2  1538.655738  4998.631148   800.245902  1908.147541  337.754098   \n",
       "\n",
       "          8272        9311      13159      13160  14011  ...  PPAM05126  \\\n",
       "0  1130.754098  517.491803  61.655738  55.147541    6.0  ...  31.040984   \n",
       "1   589.893443  276.213115  68.163934  37.893443    6.0  ...  38.131148   \n",
       "2   824.590164  287.139344  44.950820  35.540984    6.0  ...  12.459016   \n",
       "\n",
       "   PPAM05156  PPAM06156   PPAM07156   PPAM08156  PPAM11156  PSTM01257  \\\n",
       "0  45.163934  18.459016   81.311475  106.844262        2.0  24.163934   \n",
       "1  51.401639  13.213115  101.106557  132.991803        2.0  24.467213   \n",
       "2  39.942623  11.663934  107.385246  219.393443        2.0  24.549180   \n",
       "\n",
       "   PSTM01457   WIM5011B  WIM51234  \n",
       "0  10.598361  76.409836       2.0  \n",
       "1  10.204918  51.721311       2.0  \n",
       "2  12.500000  28.442623       2.0  \n",
       "\n",
       "[3 rows x 247 columns]"
      ]
     },
     "execution_count": 207,
     "metadata": {},
     "output_type": "execute_result"
    }
   ],
   "source": [
    "month = pd.read_csv('/home/dheeraj/my_projects/my_project_env/practice/EDA_and_prediction/monthly.csv')\n",
    "month"
   ]
  },
  {
   "cell_type": "code",
   "execution_count": 210,
   "metadata": {},
   "outputs": [],
   "source": [
    "# out = [3,3,3,3,100]\n",
    "# out.append(month.iloc[1])\n",
    "out = month.iloc[0,:].to_list()"
   ]
  },
  {
   "cell_type": "code",
   "execution_count": 211,
   "metadata": {},
   "outputs": [
    {
     "data": {
      "text/plain": [
       "[1074.4262295081967,\n",
       " 2345.852459016393,\n",
       " 993.0983606557376,\n",
       " 1550.467213114754,\n",
       " 377.75409836065575,\n",
       " 1130.7540983606555,\n",
       " 517.4918032786885,\n",
       " 61.65573770491803,\n",
       " 55.14754098360656,\n",
       " 6.0,\n",
       " 14.918032786885245,\n",
       " 19.84426229508197,\n",
       " 12.450819672131148,\n",
       " 49.9344262295082,\n",
       " 37183.62295081967,\n",
       " 3391.1721311475408,\n",
       " 1294.3360655737704,\n",
       " 5801.934426229508,\n",
       " 5364.270491803279,\n",
       " 2039.729508196721,\n",
       " 763.2049180327867,\n",
       " 16876.0,\n",
       " 734.2704918032788,\n",
       " 5187.22131147541,\n",
       " 108.74590163934427,\n",
       " 1711.5901639344265,\n",
       " 1399.827868852459,\n",
       " 788.2950819672133,\n",
       " 3404.467213114754,\n",
       " 1087.204918032787,\n",
       " 1516.3688524590164,\n",
       " 75.22950819672131,\n",
       " 1801.360655737705,\n",
       " 4.0,\n",
       " 9118.524590163934,\n",
       " 599.7786885245903,\n",
       " 6249.2131147540995,\n",
       " 464.29508196721315,\n",
       " 54.516393442622956,\n",
       " 302.77868852459017,\n",
       " 9.0,\n",
       " 14.073770491803279,\n",
       " 6.0,\n",
       " 12.827868852459016,\n",
       " 8.0,\n",
       " 22373.754098360656,\n",
       " 1710.5983606557377,\n",
       " 28104.14754098361,\n",
       " 2816.8688524590166,\n",
       " 3419.975409836065,\n",
       " 2258.598360655738,\n",
       " 24039.467213114756,\n",
       " 2274.040983606557,\n",
       " 17854.639344262294,\n",
       " 49.049180327868854,\n",
       " 6173.434426229508,\n",
       " 6471.459016393444,\n",
       " 795.1639344262295,\n",
       " 1573.8032786885244,\n",
       " 692.2786885245903,\n",
       " 3187.377049180328,\n",
       " 4453.827868852459,\n",
       " 4175.4098360655735,\n",
       " 7083.680327868852,\n",
       " 5242.950819672131,\n",
       " 3601.344262295082,\n",
       " 4509.237704918033,\n",
       " 2155.467213114754,\n",
       " 1838.016393442623,\n",
       " 15693.918032786885,\n",
       " 98.22950819672131,\n",
       " 2274.688524590164,\n",
       " 3125.0,\n",
       " 6228.106557377049,\n",
       " 113916.87704918033,\n",
       " 3957.6639344262294,\n",
       " 13106.565573770493,\n",
       " 879.0245901639345,\n",
       " 35908.409836065584,\n",
       " 9988.008196721312,\n",
       " 7671.5245901639355,\n",
       " 16179.67213114754,\n",
       " 2381.360655737705,\n",
       " 2179.983606557377,\n",
       " 3660.516393442623,\n",
       " 4139.131147540984,\n",
       " 941.1475409836064,\n",
       " 2110.22131147541,\n",
       " 53.39344262295082,\n",
       " 386.3852459016394,\n",
       " 1165.1475409836066,\n",
       " 238.12295081967213,\n",
       " 299.25409836065575,\n",
       " 167.64754098360658,\n",
       " 334.4426229508197,\n",
       " 152.6885245901639,\n",
       " 499.4016393442623,\n",
       " 1016.2131147540983,\n",
       " 279.4590163934426,\n",
       " 101.20491803278688,\n",
       " 224.56557377049182,\n",
       " 41.065573770491795,\n",
       " 10.754098360655737,\n",
       " 2.0,\n",
       " 560.1803278688525,\n",
       " 94.80327868852459,\n",
       " 130.0573770491803,\n",
       " 9.0,\n",
       " 4.0,\n",
       " 3.0,\n",
       " 118.08196721311475,\n",
       " 30.79508196721311,\n",
       " 43.72131147540984,\n",
       " 11.770491803278688,\n",
       " 8.0,\n",
       " 37.122950819672134,\n",
       " 28.9344262295082,\n",
       " 70.90983606557377,\n",
       " 2.0,\n",
       " 6.0,\n",
       " 1022.6147540983608,\n",
       " 348.74590163934425,\n",
       " 23.631147540983605,\n",
       " 66.88524590163935,\n",
       " 62.5,\n",
       " 60.32786885245902,\n",
       " 168.4672131147541,\n",
       " 462.09016393442624,\n",
       " 60.319672131147534,\n",
       " 5.0,\n",
       " 131.9672131147541,\n",
       " 39.69672131147541,\n",
       " 1.0,\n",
       " 2.0,\n",
       " 19.688524590163933,\n",
       " 6.0,\n",
       " 1.0,\n",
       " 1.0,\n",
       " 3.0,\n",
       " 5.0,\n",
       " 28.827868852459016,\n",
       " 10.614754098360656,\n",
       " 2.0,\n",
       " 10.950819672131148,\n",
       " 2.0,\n",
       " 96.59836065573772,\n",
       " 957.5819672131148,\n",
       " 3013.032786885246,\n",
       " 4344.475409836065,\n",
       " 2379.1311475409834,\n",
       " 1451.2868852459014,\n",
       " 1870.1475409836066,\n",
       " 232.4508196721312,\n",
       " 73.91803278688525,\n",
       " 752.155737704918,\n",
       " 50.57377049180328,\n",
       " 18.647540983606557,\n",
       " 2.0,\n",
       " 21.016393442622952,\n",
       " 25.098360655737704,\n",
       " 14.270491803278688,\n",
       " 12.0327868852459,\n",
       " 59.286885245901644,\n",
       " 55.99180327868853,\n",
       " 75.44262295081967,\n",
       " 12.073770491803279,\n",
       " 5.0,\n",
       " 3.0,\n",
       " 21.28688524590164,\n",
       " 32.213114754098356,\n",
       " 2.0,\n",
       " 42.467213114754095,\n",
       " 97.03278688524591,\n",
       " 2.0,\n",
       " 141.0245901639344,\n",
       " 73.48360655737704,\n",
       " 126.80327868852459,\n",
       " 252.09836065573768,\n",
       " 168.8114754098361,\n",
       " 46.10655737704918,\n",
       " 13.942622950819672,\n",
       " 1109.7131147540983,\n",
       " 9.0,\n",
       " 117.81147540983606,\n",
       " 41.860655737704924,\n",
       " 35.213114754098356,\n",
       " 18.508196721311478,\n",
       " 60.81147540983606,\n",
       " 34.26229508196721,\n",
       " 64.52459016393442,\n",
       " 34.59836065573771,\n",
       " 14.704918032786884,\n",
       " 14.39344262295082,\n",
       " 8.0,\n",
       " 3.0,\n",
       " 6.0,\n",
       " 3.0,\n",
       " 50.49180327868853,\n",
       " 1055.3524590163934,\n",
       " 1878.5409836065573,\n",
       " 1194.9918032786884,\n",
       " 3172.581967213115,\n",
       " 1255.1065573770493,\n",
       " 858.2540983606558,\n",
       " 11.877049180327868,\n",
       " 676.0245901639345,\n",
       " 9.0,\n",
       " 10.877049180327868,\n",
       " 8.0,\n",
       " 12.278688524590164,\n",
       " 4.0,\n",
       " 5.0,\n",
       " 2.0,\n",
       " 206.80327868852456,\n",
       " 110.46721311475409,\n",
       " 196.7131147540984,\n",
       " 34.59016393442623,\n",
       " 155.8114754098361,\n",
       " 196.91803278688525,\n",
       " 120.3934426229508,\n",
       " 124.87704918032787,\n",
       " 62.35245901639344,\n",
       " 19.9344262295082,\n",
       " 64.92622950819673,\n",
       " 26.680327868852462,\n",
       " 13.721311475409836,\n",
       " 113.24590163934427,\n",
       " 1116.204918032787,\n",
       " 198.51639344262298,\n",
       " 458.1803278688525,\n",
       " 1433.983606557377,\n",
       " 9248.852459016394,\n",
       " 4972.081967213116,\n",
       " 860.9590163934427,\n",
       " 622.9098360655737,\n",
       " 375.0573770491803,\n",
       " 21.80327868852459,\n",
       " 31.040983606557376,\n",
       " 45.1639344262295,\n",
       " 18.459016393442624,\n",
       " 81.31147540983606,\n",
       " 106.84426229508196,\n",
       " 2.0,\n",
       " 24.16393442622951,\n",
       " 10.598360655737704,\n",
       " 76.40983606557377,\n",
       " 2.0]"
      ]
     },
     "execution_count": 211,
     "metadata": {},
     "output_type": "execute_result"
    }
   ],
   "source": [
    "out"
   ]
  },
  {
   "cell_type": "code",
   "execution_count": 213,
   "metadata": {},
   "outputs": [],
   "source": [
    "outliers=[]\n",
    "def detect_outlier(data_1):\n",
    "    \n",
    "    threshold=3\n",
    "    mean_1 = np.mean(data_1)\n",
    "    std_1 =np.std(data_1)\n",
    "    \n",
    "    \n",
    "    for y in data_1:\n",
    "        z_score= (y - mean_1)/std_1 \n",
    "        if np.abs(z_score) > threshold:\n",
    "            outliers.append(y)\n",
    "    return outliers"
   ]
  },
  {
   "cell_type": "code",
   "execution_count": 214,
   "metadata": {},
   "outputs": [
    {
     "name": "stdout",
     "output_type": "stream",
     "text": [
      "[37183.62295081967, 113916.87704918033, 35908.409836065584]\n"
     ]
    }
   ],
   "source": [
    "outlier_datapoints = detect_outlier(out)\n",
    "print(outlier_datapoints)"
   ]
  },
  {
   "cell_type": "code",
   "execution_count": 215,
   "metadata": {},
   "outputs": [],
   "source": [
    "def getIndexes(dfObj, value):\n",
    "    ''' Get index positions of value in dataframe i.e. dfObj.'''\n",
    "    listOfPos = list()\n",
    "    # Get bool dataframe with True at positions where the given value exists\n",
    "    result = dfObj.isin([value])\n",
    "    # Get list of columns that contains the value\n",
    "    seriesObj = result.any()\n",
    "    columnNames = list(seriesObj[seriesObj == True].index)\n",
    "    listOfPos.append(columnNames)\n",
    "    # Iterate over list of columns and fetch the rows indexes where value exists\n",
    "#     for col in columnNames:\n",
    "#         rows = list(result[col][result[col] == True].index)\n",
    "#         for row in rows:\n",
    "#             listOfPos.append((row, col))\n",
    "    # Return a list of tuples indicating the positions of value in the dataframe\n",
    "    return listOfPos"
   ]
  },
  {
   "cell_type": "code",
   "execution_count": 200,
   "metadata": {},
   "outputs": [],
   "source": [
    "# # # out.item()\n",
    "# for i in range(11):\n",
    "#     print(i)"
   ]
  },
  {
   "cell_type": "code",
   "execution_count": 216,
   "metadata": {},
   "outputs": [
    {
     "name": "stdout",
     "output_type": "stream",
     "text": [
      "Position  0  (Row index , Column Name) :  []\n",
      "Position  0  (Row index , Column Name) :  []\n",
      "Position  0  (Row index , Column Name) :  []\n"
     ]
    }
   ],
   "source": [
    "for i in outlier_datapoints:\n",
    "    listOfPositions = getIndexes(month, i)\n",
    "# print('Index positions of 81 in Dataframe : ')\n",
    "    for i in range(len(listOfPositions)):\n",
    "        print('Position ', i, ' (Row index , Column Name) : ', listOfPositions[i])"
   ]
  },
  {
   "cell_type": "code",
   "execution_count": 212,
   "metadata": {},
   "outputs": [
    {
     "name": "stdout",
     "output_type": "stream",
     "text": [
      "[37183.62295081967, 113916.87704918033, 35908.409836065584]\n",
      "[]\n",
      "[]\n",
      "[]\n",
      "[168507.65573770492]\n",
      "[]\n",
      "[65525.04918032787, 128256.84426229508, 47874.598360655735]\n",
      "[]\n",
      "[]\n",
      "[]\n"
     ]
    }
   ],
   "source": [
    "for l in range(12):\n",
    "    out1 = month.iloc[l,:].to_list()\n",
    "\n",
    "    ########################### Finding outlier\n",
    "    outliers=[]\n",
    "    def detect_outlier(data_1):\n",
    "    \n",
    "        threshold=3\n",
    "        mean_1 = np.mean(data_1)\n",
    "        std_1 =np.std(data_1)\n",
    "    \n",
    "    \n",
    "        for y in data_1:\n",
    "            z_score= (y - mean_1)/std_1 \n",
    "            if np.abs(z_score) > threshold:\n",
    "                outliers.append(y)\n",
    "        return outliers\n",
    "\n",
    "    outlier_datapoints = detect_outlier(out1)\n",
    "    print(outlier_datapoints)\n",
    "\n",
    "    ############################ Finding index\n",
    "\n",
    "    def getIndexes(dfObj, value):\n",
    "        listOfPos = list()\n",
    "        result = dfObj.isin([value])\n",
    "        seriesObj = result.any()\n",
    "        columnNames = list(seriesObj[seriesObj == True].index)\n",
    "        listOfPos.append(columnNames)\n",
    "        return listOfPos\n",
    "\n",
    "\n",
    "    for i in outlier_datapoints:\n",
    "        listOfPositions = getIndexes(month, i)\n",
    "        for i in range(len(listOfPositions)):\n",
    "            print(listOfPositions[i])"
   ]
  },
  {
   "cell_type": "code",
   "execution_count": null,
   "metadata": {},
   "outputs": [],
   "source": []
  },
  {
   "cell_type": "code",
   "execution_count": null,
   "metadata": {},
   "outputs": [],
   "source": []
  }
 ],
 "metadata": {
  "kernelspec": {
   "display_name": "Python 3",
   "language": "python",
   "name": "python3"
  },
  "language_info": {
   "codemirror_mode": {
    "name": "ipython",
    "version": 3
   },
   "file_extension": ".py",
   "mimetype": "text/x-python",
   "name": "python",
   "nbconvert_exporter": "python",
   "pygments_lexer": "ipython3",
   "version": "3.6.8"
  }
 },
 "nbformat": 4,
 "nbformat_minor": 2
}
