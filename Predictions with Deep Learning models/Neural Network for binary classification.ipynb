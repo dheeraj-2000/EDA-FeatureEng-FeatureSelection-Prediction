{
 "cells": [
  {
   "cell_type": "code",
   "execution_count": 1,
   "metadata": {},
   "outputs": [
    {
     "name": "stderr",
     "output_type": "stream",
     "text": [
      "Using TensorFlow backend.\n"
     ]
    }
   ],
   "source": [
    "import keras"
   ]
  },
  {
   "cell_type": "code",
   "execution_count": 2,
   "metadata": {},
   "outputs": [],
   "source": [
    "from keras.models import Sequential\n",
    "from keras.layers import Dense\n",
    "from keras.optimizers import Adam"
   ]
  },
  {
   "cell_type": "code",
   "execution_count": 9,
   "metadata": {},
   "outputs": [],
   "source": [
    "from sklearn.metrics import confusion_matrix\n",
    "import numpy as np\n",
    "from random import randint"
   ]
  },
  {
   "cell_type": "code",
   "execution_count": 10,
   "metadata": {},
   "outputs": [],
   "source": [
    "train_set = []\n",
    "train_label = []\n",
    "\n",
    "for i in range(1000):\n",
    "    younger_age = randint(13, 64)\n",
    "    train_set.append(younger_age)\n",
    "    train_label.append(0)\n",
    "    \n",
    "    older_age = randint(64, 100)\n",
    "    train_set.append(older_age)\n",
    "    train_label.append(1)"
   ]
  },
  {
   "cell_type": "code",
   "execution_count": 16,
   "metadata": {},
   "outputs": [],
   "source": [
    "train_set = np.array(train_set)\n",
    "train_label = np.array(train_label)"
   ]
  },
  {
   "cell_type": "code",
   "execution_count": 17,
   "metadata": {},
   "outputs": [],
   "source": [
    "from sklearn.preprocessing import MinMaxScaler"
   ]
  },
  {
   "cell_type": "code",
   "execution_count": 26,
   "metadata": {},
   "outputs": [],
   "source": [
    "scaler = MinMaxScaler( feature_range= (0, 1))\n",
    "train_sample = scaler.fit_transform(train_set.reshape(-1, 1))"
   ]
  },
  {
   "cell_type": "code",
   "execution_count": 27,
   "metadata": {},
   "outputs": [
    {
     "data": {
      "text/plain": [
       "array([[0.2183908 ],\n",
       "       [0.68965517],\n",
       "       [0.11494253],\n",
       "       ...,\n",
       "       [0.83908046],\n",
       "       [0.17241379],\n",
       "       [0.6091954 ]])"
      ]
     },
     "execution_count": 27,
     "metadata": {},
     "output_type": "execute_result"
    }
   ],
   "source": [
    "train_sample"
   ]
  },
  {
   "cell_type": "code",
   "execution_count": 29,
   "metadata": {},
   "outputs": [],
   "source": [
    "model = Sequential([Dense(16, input_dim = 1, activation='relu'), Dense(32, activation='relu'), Dense(2, activation='softmax')])"
   ]
  },
  {
   "cell_type": "code",
   "execution_count": 31,
   "metadata": {},
   "outputs": [
    {
     "name": "stdout",
     "output_type": "stream",
     "text": [
      "Model: \"sequential_2\"\n",
      "_________________________________________________________________\n",
      "Layer (type)                 Output Shape              Param #   \n",
      "=================================================================\n",
      "dense_4 (Dense)              (None, 16)                32        \n",
      "_________________________________________________________________\n",
      "dense_5 (Dense)              (None, 32)                544       \n",
      "_________________________________________________________________\n",
      "dense_6 (Dense)              (None, 2)                 66        \n",
      "=================================================================\n",
      "Total params: 642\n",
      "Trainable params: 642\n",
      "Non-trainable params: 0\n",
      "_________________________________________________________________\n"
     ]
    }
   ],
   "source": [
    "model.summary()"
   ]
  },
  {
   "cell_type": "code",
   "execution_count": 33,
   "metadata": {},
   "outputs": [],
   "source": [
    "model.compile(Adam(lr=0.01), loss= 'sparse_categorical_crossentropy',metrics=['accuracy'])"
   ]
  },
  {
   "cell_type": "code",
   "execution_count": 34,
   "metadata": {},
   "outputs": [
    {
     "name": "stdout",
     "output_type": "stream",
     "text": [
      "Epoch 1/10\n",
      "2000/2000 [==============================] - 1s 656us/step - loss: 0.1483 - accuracy: 0.9380\n",
      "Epoch 2/10\n",
      "2000/2000 [==============================] - 0s 123us/step - loss: 0.0498 - accuracy: 0.9785\n",
      "Epoch 3/10\n",
      "2000/2000 [==============================] - 0s 205us/step - loss: 0.0367 - accuracy: 0.9870\n",
      "Epoch 4/10\n",
      "2000/2000 [==============================] - 0s 237us/step - loss: 0.0424 - accuracy: 0.9820\n",
      "Epoch 5/10\n",
      "2000/2000 [==============================] - 0s 152us/step - loss: 0.0494 - accuracy: 0.9780\n",
      "Epoch 6/10\n",
      "2000/2000 [==============================] - 0s 131us/step - loss: 0.0404 - accuracy: 0.9855\n",
      "Epoch 7/10\n",
      "2000/2000 [==============================] - 0s 145us/step - loss: 0.0357 - accuracy: 0.9815\n",
      "Epoch 8/10\n",
      "2000/2000 [==============================] - 0s 114us/step - loss: 0.0455 - accuracy: 0.9795\n",
      "Epoch 9/10\n",
      "2000/2000 [==============================] - 0s 140us/step - loss: 0.0436 - accuracy: 0.9780\n",
      "Epoch 10/10\n",
      "2000/2000 [==============================] - 0s 142us/step - loss: 0.0330 - accuracy: 0.9860\n"
     ]
    },
    {
     "data": {
      "text/plain": [
       "<keras.callbacks.callbacks.History at 0x7f3ceefe99b0>"
      ]
     },
     "execution_count": 34,
     "metadata": {},
     "output_type": "execute_result"
    }
   ],
   "source": [
    "model.fit(train_sample, train_label,batch_size=10, epochs=10)"
   ]
  },
  {
   "cell_type": "code",
   "execution_count": 58,
   "metadata": {},
   "outputs": [],
   "source": [
    "test_set = []\n",
    "test_label = []\n",
    "\n",
    "for i in range(500):\n",
    "    younger_age = randint(13, 64)\n",
    "    test_set.append(younger_age)\n",
    "    test_label.append(0)\n",
    "    \n",
    "    older_age = randint(64, 100)\n",
    "    test_set.append(older_age)\n",
    "    test_label.append(1)"
   ]
  },
  {
   "cell_type": "code",
   "execution_count": 59,
   "metadata": {},
   "outputs": [],
   "source": [
    "test_set = np.array(test_set)\n",
    "test_label = np.array(test_label)"
   ]
  },
  {
   "cell_type": "code",
   "execution_count": null,
   "metadata": {},
   "outputs": [],
   "source": []
  },
  {
   "cell_type": "code",
   "execution_count": 60,
   "metadata": {},
   "outputs": [],
   "source": [
    "test_output = model.predict_classes(test_set, batch_size=10)"
   ]
  },
  {
   "cell_type": "code",
   "execution_count": 61,
   "metadata": {},
   "outputs": [],
   "source": [
    "predict_values = confusion_matrix(test_label, test_output)"
   ]
  },
  {
   "cell_type": "code",
   "execution_count": 62,
   "metadata": {},
   "outputs": [
    {
     "name": "stdout",
     "output_type": "stream",
     "text": [
      "[[  0 500]\n",
      " [  0 500]]\n"
     ]
    }
   ],
   "source": [
    "print(predict_values)"
   ]
  },
  {
   "cell_type": "code",
   "execution_count": null,
   "metadata": {},
   "outputs": [],
   "source": []
  }
 ],
 "metadata": {
  "kernelspec": {
   "display_name": "Python 3",
   "language": "python",
   "name": "python3"
  },
  "language_info": {
   "codemirror_mode": {
    "name": "ipython",
    "version": 3
   },
   "file_extension": ".py",
   "mimetype": "text/x-python",
   "name": "python",
   "nbconvert_exporter": "python",
   "pygments_lexer": "ipython3",
   "version": "3.6.8"
  }
 },
 "nbformat": 4,
 "nbformat_minor": 4
}
